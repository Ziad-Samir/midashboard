{
 "cells": [
  {
   "cell_type": "code",
   "execution_count": 52,
   "id": "9e2e4e87",
   "metadata": {},
   "outputs": [],
   "source": [
    "import pandas as pd\n",
    "import plotly.express as px\n",
    "\n",
    "# Load and test data\n",
    "df = pd.read_csv(\"../data/hospital_patients_with_revenue.csv\")\n",
    "\n",
    "\n"
   ]
  },
  {
   "cell_type": "code",
   "execution_count": 53,
   "id": "8bfda905",
   "metadata": {},
   "outputs": [
    {
     "data": {
      "text/html": [
       "<div>\n",
       "<style scoped>\n",
       "    .dataframe tbody tr th:only-of-type {\n",
       "        vertical-align: middle;\n",
       "    }\n",
       "\n",
       "    .dataframe tbody tr th {\n",
       "        vertical-align: top;\n",
       "    }\n",
       "\n",
       "    .dataframe thead th {\n",
       "        text-align: right;\n",
       "    }\n",
       "</style>\n",
       "<table border=\"1\" class=\"dataframe\">\n",
       "  <thead>\n",
       "    <tr style=\"text-align: right;\">\n",
       "      <th></th>\n",
       "      <th>Department</th>\n",
       "      <th>Age</th>\n",
       "    </tr>\n",
       "  </thead>\n",
       "  <tbody>\n",
       "    <tr>\n",
       "      <th>0</th>\n",
       "      <td>Cardiology</td>\n",
       "      <td>48.0</td>\n",
       "    </tr>\n",
       "    <tr>\n",
       "      <th>1</th>\n",
       "      <td>Emergency</td>\n",
       "      <td>46.0</td>\n",
       "    </tr>\n",
       "    <tr>\n",
       "      <th>2</th>\n",
       "      <td>General Surgery</td>\n",
       "      <td>45.0</td>\n",
       "    </tr>\n",
       "    <tr>\n",
       "      <th>3</th>\n",
       "      <td>ICU</td>\n",
       "      <td>46.0</td>\n",
       "    </tr>\n",
       "    <tr>\n",
       "      <th>4</th>\n",
       "      <td>Neurology</td>\n",
       "      <td>42.0</td>\n",
       "    </tr>\n",
       "    <tr>\n",
       "      <th>5</th>\n",
       "      <td>Oncology</td>\n",
       "      <td>40.0</td>\n",
       "    </tr>\n",
       "    <tr>\n",
       "      <th>6</th>\n",
       "      <td>Orthopedics</td>\n",
       "      <td>48.0</td>\n",
       "    </tr>\n",
       "    <tr>\n",
       "      <th>7</th>\n",
       "      <td>Pediatrics</td>\n",
       "      <td>43.0</td>\n",
       "    </tr>\n",
       "  </tbody>\n",
       "</table>\n",
       "</div>"
      ],
      "text/plain": [
       "        Department   Age\n",
       "0       Cardiology  48.0\n",
       "1        Emergency  46.0\n",
       "2  General Surgery  45.0\n",
       "3              ICU  46.0\n",
       "4        Neurology  42.0\n",
       "5         Oncology  40.0\n",
       "6      Orthopedics  48.0\n",
       "7       Pediatrics  43.0"
      ]
     },
     "execution_count": 53,
     "metadata": {},
     "output_type": "execute_result"
    }
   ],
   "source": [
    "age_by_dep=df.groupby('Department')['Age'].mean().round().reset_index()\n",
    "age_by_dep"
   ]
  },
  {
   "cell_type": "code",
   "execution_count": 54,
   "id": "0a325ac3",
   "metadata": {},
   "outputs": [
    {
     "data": {
      "text/html": [
       "<div>\n",
       "<style scoped>\n",
       "    .dataframe tbody tr th:only-of-type {\n",
       "        vertical-align: middle;\n",
       "    }\n",
       "\n",
       "    .dataframe tbody tr th {\n",
       "        vertical-align: top;\n",
       "    }\n",
       "\n",
       "    .dataframe thead th {\n",
       "        text-align: right;\n",
       "    }\n",
       "</style>\n",
       "<table border=\"1\" class=\"dataframe\">\n",
       "  <thead>\n",
       "    <tr style=\"text-align: right;\">\n",
       "      <th></th>\n",
       "      <th>Department</th>\n",
       "      <th>PatientID</th>\n",
       "    </tr>\n",
       "  </thead>\n",
       "  <tbody>\n",
       "    <tr>\n",
       "      <th>0</th>\n",
       "      <td>Cardiology</td>\n",
       "      <td>26</td>\n",
       "    </tr>\n",
       "    <tr>\n",
       "      <th>1</th>\n",
       "      <td>Emergency</td>\n",
       "      <td>35</td>\n",
       "    </tr>\n",
       "    <tr>\n",
       "      <th>2</th>\n",
       "      <td>General Surgery</td>\n",
       "      <td>27</td>\n",
       "    </tr>\n",
       "    <tr>\n",
       "      <th>3</th>\n",
       "      <td>ICU</td>\n",
       "      <td>38</td>\n",
       "    </tr>\n",
       "    <tr>\n",
       "      <th>4</th>\n",
       "      <td>Neurology</td>\n",
       "      <td>36</td>\n",
       "    </tr>\n",
       "    <tr>\n",
       "      <th>5</th>\n",
       "      <td>Oncology</td>\n",
       "      <td>25</td>\n",
       "    </tr>\n",
       "    <tr>\n",
       "      <th>6</th>\n",
       "      <td>Orthopedics</td>\n",
       "      <td>34</td>\n",
       "    </tr>\n",
       "    <tr>\n",
       "      <th>7</th>\n",
       "      <td>Pediatrics</td>\n",
       "      <td>29</td>\n",
       "    </tr>\n",
       "  </tbody>\n",
       "</table>\n",
       "</div>"
      ],
      "text/plain": [
       "        Department  PatientID\n",
       "0       Cardiology         26\n",
       "1        Emergency         35\n",
       "2  General Surgery         27\n",
       "3              ICU         38\n",
       "4        Neurology         36\n",
       "5         Oncology         25\n",
       "6      Orthopedics         34\n",
       "7       Pediatrics         29"
      ]
     },
     "execution_count": 54,
     "metadata": {},
     "output_type": "execute_result"
    }
   ],
   "source": [
    "patients_per_departments=df.groupby('Department')['PatientID'].count().reset_index()\n",
    "patients_per_departments"
   ]
  },
  {
   "cell_type": "code",
   "execution_count": 55,
   "id": "d8d9bb64",
   "metadata": {},
   "outputs": [],
   "source": [
    "import numpy as np"
   ]
  },
  {
   "cell_type": "code",
   "execution_count": 66,
   "id": "453cec1e",
   "metadata": {},
   "outputs": [],
   "source": [
    "import numpy as np\n",
    "import pandas as pd\n",
    "\n",
    "# Step 1: Get 30 unique doctor names randomly\n",
    "unique_doctor_names = df['Doctor'].dropna().unique()\n",
    "selected_doctors = np.random.choice(unique_doctor_names, size=30, replace=False)\n",
    "\n",
    "# Step 2: Replace all others with 'Other'\n",
    "df['Doctor'] = df['Doctor'].apply(lambda x: x if x in selected_doctors else 'Other')\n",
    "\n",
    "# Step 3: Count unique doctors per department\n",
    "unique_doctors_per_department = df[df['Doctor'] != 'Other'].groupby('Department')['Doctor'].nunique().reset_index()\n",
    "\n",
    "# Optional: Sort by number of doctors\n",
    "unique_doctors_per_department = unique_doctors_per_department.sort_values(by='Doctor', ascending=False)\n",
    "\n",
    "# Rename column for clarity\n",
    "unique_doctors_per_department.columns = ['Department', 'UniqueDoctorCount']\n"
   ]
  },
  {
   "cell_type": "code",
   "execution_count": 67,
   "id": "a0f64846",
   "metadata": {},
   "outputs": [
    {
     "data": {
      "text/html": [
       "<div>\n",
       "<style scoped>\n",
       "    .dataframe tbody tr th:only-of-type {\n",
       "        vertical-align: middle;\n",
       "    }\n",
       "\n",
       "    .dataframe tbody tr th {\n",
       "        vertical-align: top;\n",
       "    }\n",
       "\n",
       "    .dataframe thead th {\n",
       "        text-align: right;\n",
       "    }\n",
       "</style>\n",
       "<table border=\"1\" class=\"dataframe\">\n",
       "  <thead>\n",
       "    <tr style=\"text-align: right;\">\n",
       "      <th></th>\n",
       "      <th>Department</th>\n",
       "      <th>UniqueDoctorCount</th>\n",
       "    </tr>\n",
       "  </thead>\n",
       "  <tbody>\n",
       "    <tr>\n",
       "      <th>3</th>\n",
       "      <td>ICU</td>\n",
       "      <td>23</td>\n",
       "    </tr>\n",
       "    <tr>\n",
       "      <th>4</th>\n",
       "      <td>Neurology</td>\n",
       "      <td>20</td>\n",
       "    </tr>\n",
       "    <tr>\n",
       "      <th>1</th>\n",
       "      <td>Emergency</td>\n",
       "      <td>19</td>\n",
       "    </tr>\n",
       "    <tr>\n",
       "      <th>0</th>\n",
       "      <td>Cardiology</td>\n",
       "      <td>19</td>\n",
       "    </tr>\n",
       "    <tr>\n",
       "      <th>7</th>\n",
       "      <td>Pediatrics</td>\n",
       "      <td>17</td>\n",
       "    </tr>\n",
       "    <tr>\n",
       "      <th>6</th>\n",
       "      <td>Orthopedics</td>\n",
       "      <td>16</td>\n",
       "    </tr>\n",
       "    <tr>\n",
       "      <th>2</th>\n",
       "      <td>General Surgery</td>\n",
       "      <td>15</td>\n",
       "    </tr>\n",
       "    <tr>\n",
       "      <th>5</th>\n",
       "      <td>Oncology</td>\n",
       "      <td>15</td>\n",
       "    </tr>\n",
       "  </tbody>\n",
       "</table>\n",
       "</div>"
      ],
      "text/plain": [
       "        Department  UniqueDoctorCount\n",
       "3              ICU                 23\n",
       "4        Neurology                 20\n",
       "1        Emergency                 19\n",
       "0       Cardiology                 19\n",
       "7       Pediatrics                 17\n",
       "6      Orthopedics                 16\n",
       "2  General Surgery                 15\n",
       "5         Oncology                 15"
      ]
     },
     "execution_count": 67,
     "metadata": {},
     "output_type": "execute_result"
    }
   ],
   "source": [
    "unique_doctors_per_department"
   ]
  },
  {
   "cell_type": "code",
   "execution_count": 68,
   "id": "6bfa4bb5",
   "metadata": {},
   "outputs": [
    {
     "name": "stdout",
     "output_type": "stream",
     "text": [
      "Total doctors selected: 30\n",
      "        Department  UniqueDoctorCount\n",
      "0       Cardiology                  2\n",
      "1        Emergency                  5\n",
      "2  General Surgery                  2\n",
      "3              ICU                  4\n",
      "4        Neurology                  6\n",
      "5         Oncology                  5\n",
      "6      Orthopedics                  2\n",
      "7       Pediatrics                  4\n"
     ]
    }
   ],
   "source": [
    "import pandas as pd\n",
    "import numpy as np\n",
    "\n",
    "# Load the dataset\n",
    "df = pd.read_csv(\"../data/hospital_patients_with_revenue.csv\")\n",
    "\n",
    "# Step 1: Create a list of unique (Doctor, Department) pairs\n",
    "unique_pairs = df[['Doctor', 'Department']].drop_duplicates()\n",
    "\n",
    "# Step 2: Randomly choose 30 such unique doctors (each in 1 department only)\n",
    "selected_pairs = unique_pairs.sample(n=30, random_state=42)\n",
    "\n",
    "# Step 3: Create a set of selected doctors (to keep only those)\n",
    "selected_doctors = set(selected_pairs['Doctor'])\n",
    "\n",
    "# Step 4: Filter the dataset\n",
    "df['Doctor'] = df['Doctor'].apply(lambda x: x if x in selected_doctors else 'Other')\n",
    "\n",
    "# Step 5: Count how many doctors per department (excluding 'Other')\n",
    "doctor_counts = selected_pairs.groupby('Department')['Doctor'].nunique().reset_index()\n",
    "doctor_counts.columns = ['Department', 'UniqueDoctorCount']\n",
    "\n",
    "# Step 6: Confirm result\n",
    "print(\"Total doctors selected:\", len(selected_doctors))  # should be 30\n",
    "print(doctor_counts)\n"
   ]
  },
  {
   "cell_type": "code",
   "execution_count": null,
   "id": "2c4488ca",
   "metadata": {},
   "outputs": [],
   "source": []
  },
  {
   "cell_type": "code",
   "execution_count": 71,
   "id": "1348e643",
   "metadata": {},
   "outputs": [
    {
     "data": {
      "text/plain": [
       "array(['Other', 'Aimee Montoya', 'Denise Jacobs', 'Christina Walters',\n",
       "       'Jessica Smith', 'Rebecca Valencia', 'Sierra Johnson',\n",
       "       'Crystal Johnson', 'Cameron Fisher', 'David Alvarez',\n",
       "       'Christopher Rubio', 'David Wright', 'Pamela Boyd',\n",
       "       'Alexander Collins', 'Samantha Garcia', 'Allen Rosales',\n",
       "       'Spencer Haynes', 'Joseph Coleman', 'Courtney Mills',\n",
       "       'Donna Landry', 'Denise Davenport', 'Diane Evans',\n",
       "       'Kimberly Gibson', 'Marie Christian', 'Amanda Jones',\n",
       "       'Shelia Wallace', 'Elaine Brooks', 'Amber Obrien', 'Carlos Ryan',\n",
       "       'Brandy Chavez', 'Vanessa Howard'], dtype=object)"
      ]
     },
     "execution_count": 71,
     "metadata": {},
     "output_type": "execute_result"
    }
   ],
   "source": [
    "df['Doctor'].unique()"
   ]
  },
  {
   "cell_type": "code",
   "execution_count": 31,
   "id": "8a412af1",
   "metadata": {},
   "outputs": [
    {
     "data": {
      "text/html": [
       "<div>\n",
       "<style scoped>\n",
       "    .dataframe tbody tr th:only-of-type {\n",
       "        vertical-align: middle;\n",
       "    }\n",
       "\n",
       "    .dataframe tbody tr th {\n",
       "        vertical-align: top;\n",
       "    }\n",
       "\n",
       "    .dataframe thead th {\n",
       "        text-align: right;\n",
       "    }\n",
       "</style>\n",
       "<table border=\"1\" class=\"dataframe\">\n",
       "  <thead>\n",
       "    <tr style=\"text-align: right;\">\n",
       "      <th></th>\n",
       "      <th>PatientID</th>\n",
       "      <th>Name</th>\n",
       "      <th>Gender</th>\n",
       "      <th>Age</th>\n",
       "      <th>Department</th>\n",
       "      <th>Doctor</th>\n",
       "      <th>AdmissionDate</th>\n",
       "      <th>Outcome</th>\n",
       "      <th>DiagnosisCode</th>\n",
       "      <th>DiagnosisDescription</th>\n",
       "      <th>DischargeDate</th>\n",
       "      <th>LengthOfStay</th>\n",
       "      <th>Revenue</th>\n",
       "    </tr>\n",
       "  </thead>\n",
       "  <tbody>\n",
       "    <tr>\n",
       "      <th>0</th>\n",
       "      <td>P0001</td>\n",
       "      <td>Danielle</td>\n",
       "      <td>Female</td>\n",
       "      <td>52</td>\n",
       "      <td>General Surgery</td>\n",
       "      <td>23</td>\n",
       "      <td>2025-06-02</td>\n",
       "      <td>Recovered</td>\n",
       "      <td>J18</td>\n",
       "      <td>Pneumonia, organism unspecified</td>\n",
       "      <td>2025-06-08</td>\n",
       "      <td>6</td>\n",
       "      <td>12000.0</td>\n",
       "    </tr>\n",
       "    <tr>\n",
       "      <th>1</th>\n",
       "      <td>P0002</td>\n",
       "      <td>Angel</td>\n",
       "      <td>Female</td>\n",
       "      <td>15</td>\n",
       "      <td>Neurology</td>\n",
       "      <td>12</td>\n",
       "      <td>2025-06-02</td>\n",
       "      <td>Recovered</td>\n",
       "      <td>F41</td>\n",
       "      <td>Other anxiety disorders</td>\n",
       "      <td>2025-06-07</td>\n",
       "      <td>5</td>\n",
       "      <td>9000.0</td>\n",
       "    </tr>\n",
       "    <tr>\n",
       "      <th>2</th>\n",
       "      <td>P0003</td>\n",
       "      <td>Joshua</td>\n",
       "      <td>Female</td>\n",
       "      <td>72</td>\n",
       "      <td>Pediatrics</td>\n",
       "      <td>15</td>\n",
       "      <td>2025-05-28</td>\n",
       "      <td>Recovered</td>\n",
       "      <td>N39</td>\n",
       "      <td>Urinary tract infection, site not specified</td>\n",
       "      <td>NaN</td>\n",
       "      <td>33</td>\n",
       "      <td>49500.0</td>\n",
       "    </tr>\n",
       "    <tr>\n",
       "      <th>3</th>\n",
       "      <td>P0004</td>\n",
       "      <td>Jeffrey</td>\n",
       "      <td>Male</td>\n",
       "      <td>61</td>\n",
       "      <td>Orthopedics</td>\n",
       "      <td>6</td>\n",
       "      <td>2025-04-03</td>\n",
       "      <td>Recovered</td>\n",
       "      <td>F41</td>\n",
       "      <td>Other anxiety disorders</td>\n",
       "      <td>2025-04-05</td>\n",
       "      <td>2</td>\n",
       "      <td>3400.0</td>\n",
       "    </tr>\n",
       "    <tr>\n",
       "      <th>4</th>\n",
       "      <td>P0005</td>\n",
       "      <td>Jill</td>\n",
       "      <td>Female</td>\n",
       "      <td>21</td>\n",
       "      <td>Orthopedics</td>\n",
       "      <td>13</td>\n",
       "      <td>2025-04-05</td>\n",
       "      <td>Recovered</td>\n",
       "      <td>I10</td>\n",
       "      <td>Essential (primary) hypertension</td>\n",
       "      <td>2025-04-07</td>\n",
       "      <td>2</td>\n",
       "      <td>3400.0</td>\n",
       "    </tr>\n",
       "    <tr>\n",
       "      <th>...</th>\n",
       "      <td>...</td>\n",
       "      <td>...</td>\n",
       "      <td>...</td>\n",
       "      <td>...</td>\n",
       "      <td>...</td>\n",
       "      <td>...</td>\n",
       "      <td>...</td>\n",
       "      <td>...</td>\n",
       "      <td>...</td>\n",
       "      <td>...</td>\n",
       "      <td>...</td>\n",
       "      <td>...</td>\n",
       "      <td>...</td>\n",
       "    </tr>\n",
       "    <tr>\n",
       "      <th>245</th>\n",
       "      <td>P0246</td>\n",
       "      <td>Jennifer</td>\n",
       "      <td>Female</td>\n",
       "      <td>57</td>\n",
       "      <td>Oncology</td>\n",
       "      <td>19</td>\n",
       "      <td>2025-05-11</td>\n",
       "      <td>Referred</td>\n",
       "      <td>I25</td>\n",
       "      <td>Chronic ischemic heart disease</td>\n",
       "      <td>2025-05-15</td>\n",
       "      <td>4</td>\n",
       "      <td>10000.0</td>\n",
       "    </tr>\n",
       "    <tr>\n",
       "      <th>246</th>\n",
       "      <td>P0247</td>\n",
       "      <td>John</td>\n",
       "      <td>Female</td>\n",
       "      <td>89</td>\n",
       "      <td>Oncology</td>\n",
       "      <td>0</td>\n",
       "      <td>2025-05-15</td>\n",
       "      <td>Recovered</td>\n",
       "      <td>I10</td>\n",
       "      <td>Essential (primary) hypertension</td>\n",
       "      <td>2025-05-21</td>\n",
       "      <td>6</td>\n",
       "      <td>15000.0</td>\n",
       "    </tr>\n",
       "    <tr>\n",
       "      <th>247</th>\n",
       "      <td>P0248</td>\n",
       "      <td>Randy</td>\n",
       "      <td>Female</td>\n",
       "      <td>50</td>\n",
       "      <td>Oncology</td>\n",
       "      <td>25</td>\n",
       "      <td>2025-05-04</td>\n",
       "      <td>Recovered</td>\n",
       "      <td>I10</td>\n",
       "      <td>Essential (primary) hypertension</td>\n",
       "      <td>2025-05-12</td>\n",
       "      <td>8</td>\n",
       "      <td>20000.0</td>\n",
       "    </tr>\n",
       "    <tr>\n",
       "      <th>248</th>\n",
       "      <td>P0249</td>\n",
       "      <td>Emily</td>\n",
       "      <td>Female</td>\n",
       "      <td>23</td>\n",
       "      <td>Neurology</td>\n",
       "      <td>29</td>\n",
       "      <td>2025-04-16</td>\n",
       "      <td>Recovered</td>\n",
       "      <td>F41</td>\n",
       "      <td>Other anxiety disorders</td>\n",
       "      <td>2025-04-21</td>\n",
       "      <td>5</td>\n",
       "      <td>9000.0</td>\n",
       "    </tr>\n",
       "    <tr>\n",
       "      <th>249</th>\n",
       "      <td>P0250</td>\n",
       "      <td>Kevin</td>\n",
       "      <td>Male</td>\n",
       "      <td>31</td>\n",
       "      <td>Emergency</td>\n",
       "      <td>9</td>\n",
       "      <td>2025-05-06</td>\n",
       "      <td>Referred</td>\n",
       "      <td>I25</td>\n",
       "      <td>Chronic ischemic heart disease</td>\n",
       "      <td>2025-05-11</td>\n",
       "      <td>5</td>\n",
       "      <td>8000.0</td>\n",
       "    </tr>\n",
       "  </tbody>\n",
       "</table>\n",
       "<p>250 rows × 13 columns</p>\n",
       "</div>"
      ],
      "text/plain": [
       "    PatientID      Name  Gender  Age       Department  Doctor AdmissionDate  \\\n",
       "0       P0001  Danielle  Female   52  General Surgery      23    2025-06-02   \n",
       "1       P0002     Angel  Female   15        Neurology      12    2025-06-02   \n",
       "2       P0003    Joshua  Female   72       Pediatrics      15    2025-05-28   \n",
       "3       P0004   Jeffrey    Male   61      Orthopedics       6    2025-04-03   \n",
       "4       P0005      Jill  Female   21      Orthopedics      13    2025-04-05   \n",
       "..        ...       ...     ...  ...              ...     ...           ...   \n",
       "245     P0246  Jennifer  Female   57         Oncology      19    2025-05-11   \n",
       "246     P0247      John  Female   89         Oncology       0    2025-05-15   \n",
       "247     P0248     Randy  Female   50         Oncology      25    2025-05-04   \n",
       "248     P0249     Emily  Female   23        Neurology      29    2025-04-16   \n",
       "249     P0250     Kevin    Male   31        Emergency       9    2025-05-06   \n",
       "\n",
       "       Outcome DiagnosisCode                         DiagnosisDescription  \\\n",
       "0    Recovered           J18              Pneumonia, organism unspecified   \n",
       "1    Recovered           F41                      Other anxiety disorders   \n",
       "2    Recovered           N39  Urinary tract infection, site not specified   \n",
       "3    Recovered           F41                      Other anxiety disorders   \n",
       "4    Recovered           I10             Essential (primary) hypertension   \n",
       "..         ...           ...                                          ...   \n",
       "245   Referred           I25               Chronic ischemic heart disease   \n",
       "246  Recovered           I10             Essential (primary) hypertension   \n",
       "247  Recovered           I10             Essential (primary) hypertension   \n",
       "248  Recovered           F41                      Other anxiety disorders   \n",
       "249   Referred           I25               Chronic ischemic heart disease   \n",
       "\n",
       "    DischargeDate  LengthOfStay  Revenue  \n",
       "0      2025-06-08             6  12000.0  \n",
       "1      2025-06-07             5   9000.0  \n",
       "2             NaN            33  49500.0  \n",
       "3      2025-04-05             2   3400.0  \n",
       "4      2025-04-07             2   3400.0  \n",
       "..            ...           ...      ...  \n",
       "245    2025-05-15             4  10000.0  \n",
       "246    2025-05-21             6  15000.0  \n",
       "247    2025-05-12             8  20000.0  \n",
       "248    2025-04-21             5   9000.0  \n",
       "249    2025-05-11             5   8000.0  \n",
       "\n",
       "[250 rows x 13 columns]"
      ]
     },
     "execution_count": 31,
     "metadata": {},
     "output_type": "execute_result"
    }
   ],
   "source": [
    "df"
   ]
  },
  {
   "cell_type": "code",
   "execution_count": 29,
   "id": "be6161ae",
   "metadata": {},
   "outputs": [
    {
     "data": {
      "text/html": [
       "<div>\n",
       "<style scoped>\n",
       "    .dataframe tbody tr th:only-of-type {\n",
       "        vertical-align: middle;\n",
       "    }\n",
       "\n",
       "    .dataframe tbody tr th {\n",
       "        vertical-align: top;\n",
       "    }\n",
       "\n",
       "    .dataframe thead th {\n",
       "        text-align: right;\n",
       "    }\n",
       "</style>\n",
       "<table border=\"1\" class=\"dataframe\">\n",
       "  <thead>\n",
       "    <tr style=\"text-align: right;\">\n",
       "      <th></th>\n",
       "      <th>Department</th>\n",
       "      <th>Doctor</th>\n",
       "    </tr>\n",
       "  </thead>\n",
       "  <tbody>\n",
       "    <tr>\n",
       "      <th>0</th>\n",
       "      <td>Cardiology</td>\n",
       "      <td>26</td>\n",
       "    </tr>\n",
       "    <tr>\n",
       "      <th>1</th>\n",
       "      <td>Emergency</td>\n",
       "      <td>35</td>\n",
       "    </tr>\n",
       "    <tr>\n",
       "      <th>2</th>\n",
       "      <td>General Surgery</td>\n",
       "      <td>27</td>\n",
       "    </tr>\n",
       "    <tr>\n",
       "      <th>3</th>\n",
       "      <td>ICU</td>\n",
       "      <td>38</td>\n",
       "    </tr>\n",
       "    <tr>\n",
       "      <th>4</th>\n",
       "      <td>Neurology</td>\n",
       "      <td>36</td>\n",
       "    </tr>\n",
       "    <tr>\n",
       "      <th>5</th>\n",
       "      <td>Oncology</td>\n",
       "      <td>25</td>\n",
       "    </tr>\n",
       "    <tr>\n",
       "      <th>6</th>\n",
       "      <td>Orthopedics</td>\n",
       "      <td>34</td>\n",
       "    </tr>\n",
       "    <tr>\n",
       "      <th>7</th>\n",
       "      <td>Pediatrics</td>\n",
       "      <td>29</td>\n",
       "    </tr>\n",
       "  </tbody>\n",
       "</table>\n",
       "</div>"
      ],
      "text/plain": [
       "        Department  Doctor\n",
       "0       Cardiology      26\n",
       "1        Emergency      35\n",
       "2  General Surgery      27\n",
       "3              ICU      38\n",
       "4        Neurology      36\n",
       "5         Oncology      25\n",
       "6      Orthopedics      34\n",
       "7       Pediatrics      29"
      ]
     },
     "execution_count": 29,
     "metadata": {},
     "output_type": "execute_result"
    }
   ],
   "source": [
    "doctor_by_department=df.groupby('Department')['Doctor'].count().reset_index()\n",
    "doctor_by_department"
   ]
  },
  {
   "cell_type": "code",
   "execution_count": 25,
   "id": "3817a104",
   "metadata": {},
   "outputs": [
    {
     "data": {
      "text/html": [
       "<div>\n",
       "<style scoped>\n",
       "    .dataframe tbody tr th:only-of-type {\n",
       "        vertical-align: middle;\n",
       "    }\n",
       "\n",
       "    .dataframe tbody tr th {\n",
       "        vertical-align: top;\n",
       "    }\n",
       "\n",
       "    .dataframe thead th {\n",
       "        text-align: right;\n",
       "    }\n",
       "</style>\n",
       "<table border=\"1\" class=\"dataframe\">\n",
       "  <thead>\n",
       "    <tr style=\"text-align: right;\">\n",
       "      <th></th>\n",
       "      <th>Age</th>\n",
       "      <th>Doctor</th>\n",
       "      <th>LengthOfStay</th>\n",
       "      <th>Revenue</th>\n",
       "    </tr>\n",
       "  </thead>\n",
       "  <tbody>\n",
       "    <tr>\n",
       "      <th>count</th>\n",
       "      <td>250.000000</td>\n",
       "      <td>250.000000</td>\n",
       "      <td>250.000000</td>\n",
       "      <td>212.000000</td>\n",
       "    </tr>\n",
       "    <tr>\n",
       "      <th>mean</th>\n",
       "      <td>44.680000</td>\n",
       "      <td>132.924000</td>\n",
       "      <td>13.408000</td>\n",
       "      <td>24129.716981</td>\n",
       "    </tr>\n",
       "    <tr>\n",
       "      <th>std</th>\n",
       "      <td>26.831499</td>\n",
       "      <td>80.414677</td>\n",
       "      <td>19.611732</td>\n",
       "      <td>34883.750259</td>\n",
       "    </tr>\n",
       "    <tr>\n",
       "      <th>min</th>\n",
       "      <td>1.000000</td>\n",
       "      <td>1.000000</td>\n",
       "      <td>1.000000</td>\n",
       "      <td>1500.000000</td>\n",
       "    </tr>\n",
       "    <tr>\n",
       "      <th>25%</th>\n",
       "      <td>21.250000</td>\n",
       "      <td>55.000000</td>\n",
       "      <td>3.000000</td>\n",
       "      <td>6000.000000</td>\n",
       "    </tr>\n",
       "    <tr>\n",
       "      <th>50%</th>\n",
       "      <td>46.000000</td>\n",
       "      <td>117.000000</td>\n",
       "      <td>7.000000</td>\n",
       "      <td>12550.000000</td>\n",
       "    </tr>\n",
       "    <tr>\n",
       "      <th>75%</th>\n",
       "      <td>65.000000</td>\n",
       "      <td>214.000000</td>\n",
       "      <td>9.000000</td>\n",
       "      <td>19800.000000</td>\n",
       "    </tr>\n",
       "    <tr>\n",
       "      <th>max</th>\n",
       "      <td>89.000000</td>\n",
       "      <td>243.000000</td>\n",
       "      <td>90.000000</td>\n",
       "      <td>197500.000000</td>\n",
       "    </tr>\n",
       "  </tbody>\n",
       "</table>\n",
       "</div>"
      ],
      "text/plain": [
       "              Age      Doctor  LengthOfStay        Revenue\n",
       "count  250.000000  250.000000    250.000000     212.000000\n",
       "mean    44.680000  132.924000     13.408000   24129.716981\n",
       "std     26.831499   80.414677     19.611732   34883.750259\n",
       "min      1.000000    1.000000      1.000000    1500.000000\n",
       "25%     21.250000   55.000000      3.000000    6000.000000\n",
       "50%     46.000000  117.000000      7.000000   12550.000000\n",
       "75%     65.000000  214.000000      9.000000   19800.000000\n",
       "max     89.000000  243.000000     90.000000  197500.000000"
      ]
     },
     "execution_count": 25,
     "metadata": {},
     "output_type": "execute_result"
    }
   ],
   "source": [
    "df.describe()"
   ]
  },
  {
   "cell_type": "code",
   "execution_count": null,
   "id": "a689c291",
   "metadata": {},
   "outputs": [
    {
     "data": {
      "application/vnd.plotly.v1+json": {
       "config": {
        "plotlyServerURL": "https://plot.ly"
       },
       "data": [
        {
         "hovertemplate": "Department=%{x}<br>Average Age=%{text}<extra></extra>",
         "legendgroup": "Cardiology",
         "marker": {
          "color": "#636efa",
          "pattern": {
           "shape": ""
          }
         },
         "name": "Cardiology",
         "orientation": "v",
         "showlegend": true,
         "text": {
          "bdata": "AAAAAAAASEA=",
          "dtype": "f8"
         },
         "textposition": "auto",
         "type": "bar",
         "x": [
          "Cardiology"
         ],
         "xaxis": "x",
         "y": {
          "bdata": "AAAAAAAASEA=",
          "dtype": "f8"
         },
         "yaxis": "y"
        },
        {
         "hovertemplate": "Department=%{x}<br>Average Age=%{text}<extra></extra>",
         "legendgroup": "Emergency",
         "marker": {
          "color": "#EF553B",
          "pattern": {
           "shape": ""
          }
         },
         "name": "Emergency",
         "orientation": "v",
         "showlegend": true,
         "text": {
          "bdata": "AAAAAAAAR0A=",
          "dtype": "f8"
         },
         "textposition": "auto",
         "type": "bar",
         "x": [
          "Emergency"
         ],
         "xaxis": "x",
         "y": {
          "bdata": "AAAAAAAAR0A=",
          "dtype": "f8"
         },
         "yaxis": "y"
        },
        {
         "hovertemplate": "Department=%{x}<br>Average Age=%{text}<extra></extra>",
         "legendgroup": "General Surgery",
         "marker": {
          "color": "#00cc96",
          "pattern": {
           "shape": ""
          }
         },
         "name": "General Surgery",
         "orientation": "v",
         "showlegend": true,
         "text": {
          "bdata": "AAAAAACARkA=",
          "dtype": "f8"
         },
         "textposition": "auto",
         "type": "bar",
         "x": [
          "General Surgery"
         ],
         "xaxis": "x",
         "y": {
          "bdata": "AAAAAACARkA=",
          "dtype": "f8"
         },
         "yaxis": "y"
        },
        {
         "hovertemplate": "Department=%{x}<br>Average Age=%{text}<extra></extra>",
         "legendgroup": "ICU",
         "marker": {
          "color": "#ab63fa",
          "pattern": {
           "shape": ""
          }
         },
         "name": "ICU",
         "orientation": "v",
         "showlegend": true,
         "text": {
          "bdata": "AAAAAAAAR0A=",
          "dtype": "f8"
         },
         "textposition": "auto",
         "type": "bar",
         "x": [
          "ICU"
         ],
         "xaxis": "x",
         "y": {
          "bdata": "AAAAAAAAR0A=",
          "dtype": "f8"
         },
         "yaxis": "y"
        },
        {
         "hovertemplate": "Department=%{x}<br>Average Age=%{text}<extra></extra>",
         "legendgroup": "Neurology",
         "marker": {
          "color": "#FFA15A",
          "pattern": {
           "shape": ""
          }
         },
         "name": "Neurology",
         "orientation": "v",
         "showlegend": true,
         "text": {
          "bdata": "AAAAAAAARUA=",
          "dtype": "f8"
         },
         "textposition": "auto",
         "type": "bar",
         "x": [
          "Neurology"
         ],
         "xaxis": "x",
         "y": {
          "bdata": "AAAAAAAARUA=",
          "dtype": "f8"
         },
         "yaxis": "y"
        },
        {
         "hovertemplate": "Department=%{x}<br>Average Age=%{text}<extra></extra>",
         "legendgroup": "Oncology",
         "marker": {
          "color": "#19d3f3",
          "pattern": {
           "shape": ""
          }
         },
         "name": "Oncology",
         "orientation": "v",
         "showlegend": true,
         "text": {
          "bdata": "AAAAAAAAREA=",
          "dtype": "f8"
         },
         "textposition": "auto",
         "type": "bar",
         "x": [
          "Oncology"
         ],
         "xaxis": "x",
         "y": {
          "bdata": "AAAAAAAAREA=",
          "dtype": "f8"
         },
         "yaxis": "y"
        },
        {
         "hovertemplate": "Department=%{x}<br>Average Age=%{text}<extra></extra>",
         "legendgroup": "Orthopedics",
         "marker": {
          "color": "#FF6692",
          "pattern": {
           "shape": ""
          }
         },
         "name": "Orthopedics",
         "orientation": "v",
         "showlegend": true,
         "text": {
          "bdata": "AAAAAAAASEA=",
          "dtype": "f8"
         },
         "textposition": "auto",
         "type": "bar",
         "x": [
          "Orthopedics"
         ],
         "xaxis": "x",
         "y": {
          "bdata": "AAAAAAAASEA=",
          "dtype": "f8"
         },
         "yaxis": "y"
        },
        {
         "hovertemplate": "Department=%{x}<br>Average Age=%{text}<extra></extra>",
         "legendgroup": "Pediatrics",
         "marker": {
          "color": "#B6E880",
          "pattern": {
           "shape": ""
          }
         },
         "name": "Pediatrics",
         "orientation": "v",
         "showlegend": true,
         "text": {
          "bdata": "AAAAAACARUA=",
          "dtype": "f8"
         },
         "textposition": "auto",
         "type": "bar",
         "x": [
          "Pediatrics"
         ],
         "xaxis": "x",
         "y": {
          "bdata": "AAAAAACARUA=",
          "dtype": "f8"
         },
         "yaxis": "y"
        }
       ],
       "layout": {
        "barmode": "relative",
        "hovermode": "x",
        "legend": {
         "font": {
          "color": "#ffffff",
          "family": "Arial",
          "size": 10
         },
         "title": {
          "font": {
           "color": "#4ED7F1",
           "family": "Arial",
           "size": 14
          },
          "text": "Average Age"
         },
         "tracegroupgap": 0
        },
        "paper_bgcolor": "rgba(0,0,0,0)",
        "plot_bgcolor": "rgba(0,0,0,0)",
        "template": {
         "data": {
          "bar": [
           {
            "error_x": {
             "color": "#2a3f5f"
            },
            "error_y": {
             "color": "#2a3f5f"
            },
            "marker": {
             "line": {
              "color": "#E5ECF6",
              "width": 0.5
             },
             "pattern": {
              "fillmode": "overlay",
              "size": 10,
              "solidity": 0.2
             }
            },
            "type": "bar"
           }
          ],
          "barpolar": [
           {
            "marker": {
             "line": {
              "color": "#E5ECF6",
              "width": 0.5
             },
             "pattern": {
              "fillmode": "overlay",
              "size": 10,
              "solidity": 0.2
             }
            },
            "type": "barpolar"
           }
          ],
          "carpet": [
           {
            "aaxis": {
             "endlinecolor": "#2a3f5f",
             "gridcolor": "white",
             "linecolor": "white",
             "minorgridcolor": "white",
             "startlinecolor": "#2a3f5f"
            },
            "baxis": {
             "endlinecolor": "#2a3f5f",
             "gridcolor": "white",
             "linecolor": "white",
             "minorgridcolor": "white",
             "startlinecolor": "#2a3f5f"
            },
            "type": "carpet"
           }
          ],
          "choropleth": [
           {
            "colorbar": {
             "outlinewidth": 0,
             "ticks": ""
            },
            "type": "choropleth"
           }
          ],
          "contour": [
           {
            "colorbar": {
             "outlinewidth": 0,
             "ticks": ""
            },
            "colorscale": [
             [
              0,
              "#0d0887"
             ],
             [
              0.1111111111111111,
              "#46039f"
             ],
             [
              0.2222222222222222,
              "#7201a8"
             ],
             [
              0.3333333333333333,
              "#9c179e"
             ],
             [
              0.4444444444444444,
              "#bd3786"
             ],
             [
              0.5555555555555556,
              "#d8576b"
             ],
             [
              0.6666666666666666,
              "#ed7953"
             ],
             [
              0.7777777777777778,
              "#fb9f3a"
             ],
             [
              0.8888888888888888,
              "#fdca26"
             ],
             [
              1,
              "#f0f921"
             ]
            ],
            "type": "contour"
           }
          ],
          "contourcarpet": [
           {
            "colorbar": {
             "outlinewidth": 0,
             "ticks": ""
            },
            "type": "contourcarpet"
           }
          ],
          "heatmap": [
           {
            "colorbar": {
             "outlinewidth": 0,
             "ticks": ""
            },
            "colorscale": [
             [
              0,
              "#0d0887"
             ],
             [
              0.1111111111111111,
              "#46039f"
             ],
             [
              0.2222222222222222,
              "#7201a8"
             ],
             [
              0.3333333333333333,
              "#9c179e"
             ],
             [
              0.4444444444444444,
              "#bd3786"
             ],
             [
              0.5555555555555556,
              "#d8576b"
             ],
             [
              0.6666666666666666,
              "#ed7953"
             ],
             [
              0.7777777777777778,
              "#fb9f3a"
             ],
             [
              0.8888888888888888,
              "#fdca26"
             ],
             [
              1,
              "#f0f921"
             ]
            ],
            "type": "heatmap"
           }
          ],
          "histogram": [
           {
            "marker": {
             "pattern": {
              "fillmode": "overlay",
              "size": 10,
              "solidity": 0.2
             }
            },
            "type": "histogram"
           }
          ],
          "histogram2d": [
           {
            "colorbar": {
             "outlinewidth": 0,
             "ticks": ""
            },
            "colorscale": [
             [
              0,
              "#0d0887"
             ],
             [
              0.1111111111111111,
              "#46039f"
             ],
             [
              0.2222222222222222,
              "#7201a8"
             ],
             [
              0.3333333333333333,
              "#9c179e"
             ],
             [
              0.4444444444444444,
              "#bd3786"
             ],
             [
              0.5555555555555556,
              "#d8576b"
             ],
             [
              0.6666666666666666,
              "#ed7953"
             ],
             [
              0.7777777777777778,
              "#fb9f3a"
             ],
             [
              0.8888888888888888,
              "#fdca26"
             ],
             [
              1,
              "#f0f921"
             ]
            ],
            "type": "histogram2d"
           }
          ],
          "histogram2dcontour": [
           {
            "colorbar": {
             "outlinewidth": 0,
             "ticks": ""
            },
            "colorscale": [
             [
              0,
              "#0d0887"
             ],
             [
              0.1111111111111111,
              "#46039f"
             ],
             [
              0.2222222222222222,
              "#7201a8"
             ],
             [
              0.3333333333333333,
              "#9c179e"
             ],
             [
              0.4444444444444444,
              "#bd3786"
             ],
             [
              0.5555555555555556,
              "#d8576b"
             ],
             [
              0.6666666666666666,
              "#ed7953"
             ],
             [
              0.7777777777777778,
              "#fb9f3a"
             ],
             [
              0.8888888888888888,
              "#fdca26"
             ],
             [
              1,
              "#f0f921"
             ]
            ],
            "type": "histogram2dcontour"
           }
          ],
          "mesh3d": [
           {
            "colorbar": {
             "outlinewidth": 0,
             "ticks": ""
            },
            "type": "mesh3d"
           }
          ],
          "parcoords": [
           {
            "line": {
             "colorbar": {
              "outlinewidth": 0,
              "ticks": ""
             }
            },
            "type": "parcoords"
           }
          ],
          "pie": [
           {
            "automargin": true,
            "type": "pie"
           }
          ],
          "scatter": [
           {
            "fillpattern": {
             "fillmode": "overlay",
             "size": 10,
             "solidity": 0.2
            },
            "type": "scatter"
           }
          ],
          "scatter3d": [
           {
            "line": {
             "colorbar": {
              "outlinewidth": 0,
              "ticks": ""
             }
            },
            "marker": {
             "colorbar": {
              "outlinewidth": 0,
              "ticks": ""
             }
            },
            "type": "scatter3d"
           }
          ],
          "scattercarpet": [
           {
            "marker": {
             "colorbar": {
              "outlinewidth": 0,
              "ticks": ""
             }
            },
            "type": "scattercarpet"
           }
          ],
          "scattergeo": [
           {
            "marker": {
             "colorbar": {
              "outlinewidth": 0,
              "ticks": ""
             }
            },
            "type": "scattergeo"
           }
          ],
          "scattergl": [
           {
            "marker": {
             "colorbar": {
              "outlinewidth": 0,
              "ticks": ""
             }
            },
            "type": "scattergl"
           }
          ],
          "scattermap": [
           {
            "marker": {
             "colorbar": {
              "outlinewidth": 0,
              "ticks": ""
             }
            },
            "type": "scattermap"
           }
          ],
          "scattermapbox": [
           {
            "marker": {
             "colorbar": {
              "outlinewidth": 0,
              "ticks": ""
             }
            },
            "type": "scattermapbox"
           }
          ],
          "scatterpolar": [
           {
            "marker": {
             "colorbar": {
              "outlinewidth": 0,
              "ticks": ""
             }
            },
            "type": "scatterpolar"
           }
          ],
          "scatterpolargl": [
           {
            "marker": {
             "colorbar": {
              "outlinewidth": 0,
              "ticks": ""
             }
            },
            "type": "scatterpolargl"
           }
          ],
          "scatterternary": [
           {
            "marker": {
             "colorbar": {
              "outlinewidth": 0,
              "ticks": ""
             }
            },
            "type": "scatterternary"
           }
          ],
          "surface": [
           {
            "colorbar": {
             "outlinewidth": 0,
             "ticks": ""
            },
            "colorscale": [
             [
              0,
              "#0d0887"
             ],
             [
              0.1111111111111111,
              "#46039f"
             ],
             [
              0.2222222222222222,
              "#7201a8"
             ],
             [
              0.3333333333333333,
              "#9c179e"
             ],
             [
              0.4444444444444444,
              "#bd3786"
             ],
             [
              0.5555555555555556,
              "#d8576b"
             ],
             [
              0.6666666666666666,
              "#ed7953"
             ],
             [
              0.7777777777777778,
              "#fb9f3a"
             ],
             [
              0.8888888888888888,
              "#fdca26"
             ],
             [
              1,
              "#f0f921"
             ]
            ],
            "type": "surface"
           }
          ],
          "table": [
           {
            "cells": {
             "fill": {
              "color": "#EBF0F8"
             },
             "line": {
              "color": "white"
             }
            },
            "header": {
             "fill": {
              "color": "#C8D4E3"
             },
             "line": {
              "color": "white"
             }
            },
            "type": "table"
           }
          ]
         },
         "layout": {
          "annotationdefaults": {
           "arrowcolor": "#2a3f5f",
           "arrowhead": 0,
           "arrowwidth": 1
          },
          "autotypenumbers": "strict",
          "coloraxis": {
           "colorbar": {
            "outlinewidth": 0,
            "ticks": ""
           }
          },
          "colorscale": {
           "diverging": [
            [
             0,
             "#8e0152"
            ],
            [
             0.1,
             "#c51b7d"
            ],
            [
             0.2,
             "#de77ae"
            ],
            [
             0.3,
             "#f1b6da"
            ],
            [
             0.4,
             "#fde0ef"
            ],
            [
             0.5,
             "#f7f7f7"
            ],
            [
             0.6,
             "#e6f5d0"
            ],
            [
             0.7,
             "#b8e186"
            ],
            [
             0.8,
             "#7fbc41"
            ],
            [
             0.9,
             "#4d9221"
            ],
            [
             1,
             "#276419"
            ]
           ],
           "sequential": [
            [
             0,
             "#0d0887"
            ],
            [
             0.1111111111111111,
             "#46039f"
            ],
            [
             0.2222222222222222,
             "#7201a8"
            ],
            [
             0.3333333333333333,
             "#9c179e"
            ],
            [
             0.4444444444444444,
             "#bd3786"
            ],
            [
             0.5555555555555556,
             "#d8576b"
            ],
            [
             0.6666666666666666,
             "#ed7953"
            ],
            [
             0.7777777777777778,
             "#fb9f3a"
            ],
            [
             0.8888888888888888,
             "#fdca26"
            ],
            [
             1,
             "#f0f921"
            ]
           ],
           "sequentialminus": [
            [
             0,
             "#0d0887"
            ],
            [
             0.1111111111111111,
             "#46039f"
            ],
            [
             0.2222222222222222,
             "#7201a8"
            ],
            [
             0.3333333333333333,
             "#9c179e"
            ],
            [
             0.4444444444444444,
             "#bd3786"
            ],
            [
             0.5555555555555556,
             "#d8576b"
            ],
            [
             0.6666666666666666,
             "#ed7953"
            ],
            [
             0.7777777777777778,
             "#fb9f3a"
            ],
            [
             0.8888888888888888,
             "#fdca26"
            ],
            [
             1,
             "#f0f921"
            ]
           ]
          },
          "colorway": [
           "#636efa",
           "#EF553B",
           "#00cc96",
           "#ab63fa",
           "#FFA15A",
           "#19d3f3",
           "#FF6692",
           "#B6E880",
           "#FF97FF",
           "#FECB52"
          ],
          "font": {
           "color": "#2a3f5f"
          },
          "geo": {
           "bgcolor": "white",
           "lakecolor": "white",
           "landcolor": "#E5ECF6",
           "showlakes": true,
           "showland": true,
           "subunitcolor": "white"
          },
          "hoverlabel": {
           "align": "left"
          },
          "hovermode": "closest",
          "mapbox": {
           "style": "light"
          },
          "paper_bgcolor": "white",
          "plot_bgcolor": "#E5ECF6",
          "polar": {
           "angularaxis": {
            "gridcolor": "white",
            "linecolor": "white",
            "ticks": ""
           },
           "bgcolor": "#E5ECF6",
           "radialaxis": {
            "gridcolor": "white",
            "linecolor": "white",
            "ticks": ""
           }
          },
          "scene": {
           "xaxis": {
            "backgroundcolor": "#E5ECF6",
            "gridcolor": "white",
            "gridwidth": 2,
            "linecolor": "white",
            "showbackground": true,
            "ticks": "",
            "zerolinecolor": "white"
           },
           "yaxis": {
            "backgroundcolor": "#E5ECF6",
            "gridcolor": "white",
            "gridwidth": 2,
            "linecolor": "white",
            "showbackground": true,
            "ticks": "",
            "zerolinecolor": "white"
           },
           "zaxis": {
            "backgroundcolor": "#E5ECF6",
            "gridcolor": "white",
            "gridwidth": 2,
            "linecolor": "white",
            "showbackground": true,
            "ticks": "",
            "zerolinecolor": "white"
           }
          },
          "shapedefaults": {
           "line": {
            "color": "#2a3f5f"
           }
          },
          "ternary": {
           "aaxis": {
            "gridcolor": "white",
            "linecolor": "white",
            "ticks": ""
           },
           "baxis": {
            "gridcolor": "white",
            "linecolor": "white",
            "ticks": ""
           },
           "bgcolor": "#E5ECF6",
           "caxis": {
            "gridcolor": "white",
            "linecolor": "white",
            "ticks": ""
           }
          },
          "title": {
           "x": 0.05
          },
          "xaxis": {
           "automargin": true,
           "gridcolor": "white",
           "linecolor": "white",
           "ticks": "",
           "title": {
            "standoff": 15
           },
           "zerolinecolor": "white",
           "zerolinewidth": 2
          },
          "yaxis": {
           "automargin": true,
           "gridcolor": "white",
           "linecolor": "white",
           "ticks": "",
           "title": {
            "standoff": 15
           },
           "zerolinecolor": "white",
           "zerolinewidth": 2
          }
         }
        },
        "title": {
         "text": "Average Age"
        },
        "transition": {
         "easing": "elastic"
        },
        "xaxis": {
         "anchor": "y",
         "categoryarray": [
          "Cardiology",
          "Emergency",
          "General Surgery",
          "ICU",
          "Neurology",
          "Oncology",
          "Orthopedics",
          "Pediatrics"
         ],
         "categoryorder": "array",
         "domain": [
          0,
          1
         ],
         "title": {
          "text": "Department"
         }
        },
        "yaxis": {
         "anchor": "x",
         "domain": [
          0,
          1
         ],
         "title": {
          "text": "Average Age"
         }
        }
       }
      }
     },
     "metadata": {},
     "output_type": "display_data"
    }
   ],
   "source": [
    "\n",
    "fig=px.bar(\n",
    "    age_by_dep,\n",
    "    x='Department',\n",
    "    y='Age',\n",
    "    title='Average Age',\n",
    "    labels={'Age':'Average Age','Department':'Department'},\n",
    "    color='Department',\n",
    "    text='Age'\n",
    "     \n",
    ")\n",
    "\n",
    "fig.update_layout(\n",
    "    xaxis_title='Department',\n",
    "    legend=dict(\n",
    "        title=dict(\n",
    "            text='Average Age',\n",
    "            font=dict(family='Arial', color='#4ED7F1', size=14)\n",
    "        ),\n",
    "        font=dict(  # This controls the items in the legend\n",
    "            family='Arial',\n",
    "            color=\"#ffffff\",\n",
    "            size=10\n",
    "        )\n",
    "        \n",
    "    ),\n",
    "     color_discrete_map={\n",
    "        'Male': '#1f77b4',      # Blue\n",
    "        'Female': '#e377c2'     # Pinkish\n",
    "    },\n",
    "    hovermode='x',\n",
    "    paper_bgcolor='rgba(0,0,0,0)',  \n",
    "    plot_bgcolor='rgba(0,0,0,0)',\n",
    "    transition_easing=\"elastic\"\n",
    ")\n",
    "\n",
    "fig.update_coloraxes\n",
    "fig.show()\n"
   ]
  },
  {
   "cell_type": "code",
   "execution_count": null,
   "id": "7b55e20c",
   "metadata": {},
   "outputs": [],
   "source": []
  },
  {
   "cell_type": "code",
   "execution_count": 48,
   "id": "ec9daeab",
   "metadata": {},
   "outputs": [
    {
     "name": "stdout",
     "output_type": "stream",
     "text": [
      "Help on method update_layout in module plotly.graph_objs._figure:\n",
      "\n",
      "update_layout(dict1=None, overwrite=False, **kwargs) -> 'Figure' method of plotly.graph_objs._figure.Figure instance\n",
      "    Update the properties of the figure's layout with a dict and/or with\n",
      "    keyword arguments.\n",
      "\n",
      "    This recursively updates the structure of the original\n",
      "    layout with the values in the input dict / keyword arguments.\n",
      "\n",
      "    Parameters\n",
      "    ----------\n",
      "    dict1 : dict\n",
      "        Dictionary of properties to be updated\n",
      "    overwrite: bool\n",
      "        If True, overwrite existing properties. If False, apply updates\n",
      "        to existing properties recursively, preserving existing\n",
      "        properties that are not specified in the update operation.\n",
      "    kwargs :\n",
      "        Keyword/value pair of properties to be updated\n",
      "\n",
      "    Returns\n",
      "    -------\n",
      "    BaseFigure\n",
      "        The Figure object that the update_layout method was called on\n",
      "\n"
     ]
    }
   ],
   "source": [
    "help(fig.update_layout)"
   ]
  },
  {
   "cell_type": "code",
   "execution_count": null,
   "id": "ee7c38d4",
   "metadata": {},
   "outputs": [],
   "source": []
  },
  {
   "cell_type": "code",
   "execution_count": null,
   "id": "b1627d95",
   "metadata": {},
   "outputs": [],
   "source": []
  },
  {
   "cell_type": "code",
   "execution_count": null,
   "id": "22948bb9",
   "metadata": {},
   "outputs": [],
   "source": []
  },
  {
   "cell_type": "code",
   "execution_count": null,
   "id": "66285223",
   "metadata": {},
   "outputs": [],
   "source": [
    "from dash import Dash, dcc, html, Input, Output\n",
    "import plotly.express as px\n",
    "import pandas as pd\n",
    "\n",
    "app = Dash(__name__)\n",
    "\n",
    "# Sample data - PROPER FORMAT\n",
    "data = {\n",
    "    'Department': ['HR', 'IT', 'Finance', 'HR', 'IT', 'Finance'],\n",
    "    'Age': [32, 28, 37, 41, 28, 37],  # All individual ages\n",
    "    'AvgAge': [36.5, 28.0, 37.0, 36.5, 28.0, 37.0]  # Repeated averages\n",
    "}\n",
    "df = pd.DataFrame(data)\n",
    "\n",
    "app.layout = html.Div([\n",
    "    dcc.Graph(id='main-bar-chart'),\n",
    "    dcc.Graph(id='detail-chart')\n",
    "])\n",
    "\n",
    "@app.callback(\n",
    "    Output('detail-chart', 'figure'),\n",
    "    Input('main-bar-chart', 'clickData')\n",
    ")\n",
    "def update_detail_chart(click_data):\n",
    "    if not click_data:\n",
    "        return px.bar(title=\"Click a bar above\")  # Empty placeholder\n",
    "    \n",
    "    dept = click_data['points'][0]['x']\n",
    "    filtered_df = df[df['Department'] == dept]\n",
    "    \n",
    "    return px.histogram(\n",
    "        filtered_df,\n",
    "        x='Age',\n",
    "        title=f'Age Distribution in {dept}',\n",
    "        labels={'x': 'Age', 'y': 'Count'}\n",
    "    )\n",
    "\n",
    "@app.callback(\n",
    "    Output('main-bar-chart', 'figure'),\n",
    "    Input('main-bar-chart', 'relayoutData')\n",
    ")\n",
    "def update_main_chart(_):\n",
    "    # Get unique departments with averages\n",
    "    avg_df = df.drop_duplicates('Department')[['Department', 'AvgAge']]\n",
    "    return px.bar(\n",
    "        avg_df,\n",
    "        x='Department',\n",
    "        y='AvgAge',\n",
    "        title='Click a Bar for Details'\n",
    "    )\n",
    "\n",
    "if __name__ == '__main__':\n",
    "    app.run(debug=True)"
   ]
  },
  {
   "cell_type": "code",
   "execution_count": 13,
   "id": "84478417",
   "metadata": {},
   "outputs": [
    {
     "data": {
      "text/plain": [
       "np.int64(250)"
      ]
     },
     "execution_count": 13,
     "metadata": {},
     "output_type": "execute_result"
    }
   ],
   "source": [
    "df['PatientID'].count()"
   ]
  },
  {
   "cell_type": "code",
   "execution_count": null,
   "id": "17ad8fd2",
   "metadata": {},
   "outputs": [],
   "source": []
  }
 ],
 "metadata": {
  "kernelspec": {
   "display_name": "Python (venv)",
   "language": "python",
   "name": "venv"
  },
  "language_info": {
   "codemirror_mode": {
    "name": "ipython",
    "version": 3
   },
   "file_extension": ".py",
   "mimetype": "text/x-python",
   "name": "python",
   "nbconvert_exporter": "python",
   "pygments_lexer": "ipython3",
   "version": "3.13.3"
  }
 },
 "nbformat": 4,
 "nbformat_minor": 5
}
